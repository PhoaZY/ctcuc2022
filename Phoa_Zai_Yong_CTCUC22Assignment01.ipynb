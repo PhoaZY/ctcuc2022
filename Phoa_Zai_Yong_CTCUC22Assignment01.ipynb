{
  "nbformat": 4,
  "nbformat_minor": 0,
  "metadata": {
    "colab": {
      "name": "Phoa Zai Yong - CTCUC22Assignment01.ipynb",
      "provenance": [],
      "collapsed_sections": [],
      "include_colab_link": true
    },
    "kernelspec": {
      "name": "python3",
      "display_name": "Python 3"
    },
    "language_info": {
      "name": "python"
    }
  },
  "cells": [
    {
      "cell_type": "markdown",
      "metadata": {
        "id": "view-in-github",
        "colab_type": "text"
      },
      "source": [
        "<a href=\"https://colab.research.google.com/github/PhoaZY/ctcuc2022/blob/main/Phoa_Zai_Yong_CTCUC22Assignment01.ipynb\" target=\"_parent\"><img src=\"https://colab.research.google.com/assets/colab-badge.svg\" alt=\"Open In Colab\"/></a>"
      ]
    },
    {
      "cell_type": "markdown",
      "source": [
        "# Assignment 1\n",
        "(assignment means need to submit one ah :)) \n",
        "\n",
        "**Due**: Typically a day before the following CTCUC session. Early and quality submissions earn bonus credit. :)"
      ],
      "metadata": {
        "id": "Jw0wneGxsQK7"
      }
    },
    {
      "cell_type": "markdown",
      "source": [
        "Encryption is the process of converting a plaintext to cipher text so that the original message is 'hidden'.\n",
        "\n",
        "Referring to the [ASCII table](https://asciitable.com) or otherwise, write program code that encrypts plaintext A to ciphertext B. Annotate your program code using appropriate comments. \n",
        "\n",
        "You may assume both strings contain only printable characters (i.e. ASCII decimal values 33 to 126). Using comments, state reasonable assumptions (if any) at the start of your program eg explain how you would handle edge cases."
      ],
      "metadata": {
        "id": "kB4owajve4X1"
      }
    },
    {
      "cell_type": "code",
      "execution_count": null,
      "metadata": {
        "id": "-k9kZ8v-hwtn",
        "colab": {
          "base_uri": "https://localhost:8080/"
        },
        "outputId": "cd34e82d-4873-467b-8835-52e1376e72f6"
      },
      "outputs": [
        {
          "output_type": "stream",
          "name": "stdout",
          "text": [
            "Enter plaintext: CTCUC22\n",
            "Cipertext: 67846785675050\n"
          ]
        }
      ],
      "source": [
        "# A: \"CTCUC22\" -> B: \"67846785675050\"\n",
        "\n",
        "# input (and convert to appropriate data type)\n",
        "plaintext = input(\"Enter plaintext: \")\n",
        "\n",
        "# process\n",
        "ciphertext = \"\"\n",
        "#1st way for char in plaintext:\n",
        "    #ciphertext = ciphertext + str(ord(char)) #ciphertext += str(ord(char))\n",
        "\n",
        "#2nd way for i in range(len(plaintext)): \n",
        "    ciphertext = ciphertext + str(ord(plaintext[i]))\n",
        "# output\n",
        "print(\"Ciphertext:\", ciphertext)"
      ]
    },
    {
      "cell_type": "code",
      "execution_count": null,
      "metadata": {
        "id": "OZ_TM9unezQk",
        "colab": {
          "base_uri": "https://localhost:8080/"
        },
        "outputId": "a9d5103d-25ba-4c97-b6d3-257731ba8523"
      },
      "outputs": [
        {
          "output_type": "stream",
          "name": "stdout",
          "text": [
            "Enter plaintext: ABC\n",
            "smalltext: bcd\n"
          ]
        }
      ],
      "source": [
        "# A: \"ABC\" -> B: \"bcd\"\n",
        "text1 = input(\"Enter plaintext: \")\n",
        "smalltext = \"\"\n",
        "for char in text1:\n",
        "    smalltext = smalltext + chr(ord(char)+33)\n",
        "print(\"smalltext:\", smalltext)\n"
      ]
    },
    {
      "cell_type": "code",
      "execution_count": null,
      "metadata": {
        "id": "3-eUrFojheg1",
        "colab": {
          "base_uri": "https://localhost:8080/"
        },
        "outputId": "339f1f9d-31ef-4391-c3b9-6b654d099847"
      },
      "outputs": [
        {
          "output_type": "stream",
          "name": "stdout",
          "text": [
            "Enter plaintext:abc\n",
            "reversetext ZYX\n"
          ]
        }
      ],
      "source": [
        "# A: \"abc\" -> B: \"ZYX\"\n",
        "text2 = input(\"Enter plaintext:\")\n",
        "reversetext = \"\"\n",
        "for i in range(len(text2)):\n",
        "    reversetext = reversetext + chr(ord(text2[i])-7-2*i) #assuming the mapping -7-2i\n",
        "print(\"reversetext\", reversetext)\n"
      ]
    },
    {
      "cell_type": "markdown",
      "source": [
        "Decryption is the reverse process to recover plaintext from the ciphertext. Write program code to decrypt the ciphertext back to its plaintext."
      ],
      "metadata": {
        "id": "y-IFMUESobVC"
      }
    },
    {
      "cell_type": "code",
      "source": [
        "# B: \"67846785675050\" -> A: \"CTCUC22\"\n",
        "pt = input(\"Enter plaintext:\")\n",
        "ct = \"\"\n",
        "i = 0\n",
        "for i in range(0,13,2): #for i in range of 0 to 12 and jump 2 each time\n",
        "    ct = ct + chr(int(pt[i:i+2]))\n",
        "print(\"ct is \", ct)\n",
        "\n"
      ],
      "metadata": {
        "id": "ZzD7S2mtpO4Y",
        "colab": {
          "base_uri": "https://localhost:8080/"
        },
        "outputId": "9b16afb5-54de-443c-9a42-562df4fd7340"
      },
      "execution_count": null,
      "outputs": [
        {
          "output_type": "stream",
          "name": "stdout",
          "text": [
            "Enter plaintext:67846785675050\n",
            "ct is  CTCUC22\n"
          ]
        }
      ]
    },
    {
      "cell_type": "code",
      "source": [
        "# B: \"bcd\" -> A: \"ABC\" \n",
        "text2 = input(\"Enter plaintext: \")\n",
        "bigtext = \"\"\n",
        "for char in text2:\n",
        "    bigtext = bigtext + chr(ord(char)-33)\n",
        "print(\"bigtext:\", bigtext)\n",
        "\n"
      ],
      "metadata": {
        "id": "d90Sf5IIyL_w",
        "colab": {
          "base_uri": "https://localhost:8080/"
        },
        "outputId": "7c37d506-a699-4870-dd39-e888267a9f22"
      },
      "execution_count": null,
      "outputs": [
        {
          "output_type": "stream",
          "name": "stdout",
          "text": [
            "Enter plaintext: bcd\n",
            "bigtext: ABC\n"
          ]
        }
      ]
    },
    {
      "cell_type": "code",
      "source": [
        "# B: \"ZYX\" -> A: \"abc\"\n",
        "text3 = input(\"Enter plaintext:\")\n",
        "reversetext2 = \"\"\n",
        "for i in range(len(text3)):\n",
        "    reversetext2 = reversetext2 + chr(ord(text3[i])+7+2*i)\n",
        "print(\"reversetext\", reversetext2)\n"
      ],
      "metadata": {
        "id": "nJXq-INMyNBG",
        "colab": {
          "base_uri": "https://localhost:8080/"
        },
        "outputId": "2fe25225-0843-4d97-d15e-4713c6e71e9e"
      },
      "execution_count": null,
      "outputs": [
        {
          "output_type": "stream",
          "name": "stdout",
          "text": [
            "Enter plaintext:ZYX\n",
            "reversetext abc\n"
          ]
        }
      ]
    },
    {
      "cell_type": "markdown",
      "source": [
        "Devise and implement a happening encryption algorithm to convert the plaintext \"Computing\" to some 'interesting' ciphertext eg \"Interconnectedness\". Express your algorithm using pseudocode in the text cell below. Implement your algorithm in the following code cell. \n",
        "\n",
        "Note: Please try not to do something too mind boggling eg https://spyscape.com/article/can-you-crack-these-10-mind-boggling-ciphers-and-codes :)"
      ],
      "metadata": {
        "id": "FqLM6SOxpS69"
      }
    },
    {
      "cell_type": "markdown",
      "source": [
        "Algorithm\n",
        "```\n",
        "INPUT plaintext\n",
        "\n",
        "OUTPUT ciphertext\n",
        "\n",
        "```"
      ],
      "metadata": {
        "id": "7So4k6zAp9cN"
      }
    },
    {
      "cell_type": "code",
      "source": [
        "# Implementation\n",
        "#text = \"Computing\"\n",
        "#values = list of numbers that matches nth alpabeth from the start # a = 1, b = 2 etc\n",
        "#sum_values = sum(values) #sum will be 118\n",
        "#hundreds = sum_values // 100\n",
        "#tens = (sum_values - (hundreds * 100)) // 10\n",
        "#ones = (sum_values - (hundreds * 100) - (tens * 10))\n",
        "#final = hundreds + tens + ones #final = 10\n",
        "#first_no = final // 10\n",
        "#second_no = final % 10\n",
        "print(\"Computing is binary which mostly consists of \" + str(first_no) + \"and\" + str(second_no)) "
      ],
      "metadata": {
        "id": "sW_f9BRQp_Q2"
      },
      "execution_count": null,
      "outputs": []
    },
    {
      "cell_type": "markdown",
      "source": [
        "Record the teaching of your happening encryption algorithm and implementation (using live coding) to your students. Submit this to Session 2 feedback. :)"
      ],
      "metadata": {
        "id": "QAwwTLI6qfs1"
      }
    },
    {
      "cell_type": "markdown",
      "source": [
        "[Optional/Advanced] Devise and implement the decryption algorithm for your happening encryption algorithm. :)"
      ],
      "metadata": {
        "id": "chBgfWkVwQXY"
      }
    },
    {
      "cell_type": "markdown",
      "source": [
        ""
      ],
      "metadata": {
        "id": "FUv5goJywyG2"
      }
    },
    {
      "cell_type": "code",
      "source": [
        "10//10\n"
      ],
      "metadata": {
        "id": "KuMAySyp0KyI",
        "colab": {
          "base_uri": "https://localhost:8080/"
        },
        "outputId": "08691036-f0ce-4c60-8a5c-d4c2f8aab000"
      },
      "execution_count": 2,
      "outputs": [
        {
          "output_type": "execute_result",
          "data": {
            "text/plain": [
              "1"
            ]
          },
          "metadata": {},
          "execution_count": 2
        }
      ]
    }
  ]
}